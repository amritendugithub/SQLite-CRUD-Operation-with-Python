{
 "cells": [
  {
   "cell_type": "markdown",
   "metadata": {},
   "source": [
    "# Working with SQLite DB from Python"
   ]
  },
  {
   "cell_type": "code",
   "execution_count": 2,
   "metadata": {},
   "outputs": [],
   "source": [
    "# Importing required libraries\n",
    "import sqlite3"
   ]
  },
  {
   "cell_type": "code",
   "execution_count": 3,
   "metadata": {},
   "outputs": [],
   "source": [
    "# Create a connection object to SQLite database (create a new db if not exists)\n",
    "db = sqlite3.connect('company.db')"
   ]
  },
  {
   "cell_type": "code",
   "execution_count": 4,
   "metadata": {},
   "outputs": [],
   "source": [
    "# Create a cusror\n",
    "c = db.cursor()"
   ]
  },
  {
   "cell_type": "code",
   "execution_count": 5,
   "metadata": {},
   "outputs": [
    {
     "data": {
      "text/plain": [
       "<sqlite3.Cursor at 0x21a82a58570>"
      ]
     },
     "execution_count": 5,
     "metadata": {},
     "output_type": "execute_result"
    }
   ],
   "source": [
    "# Execute CREATE TABLE query\n",
    "c.execute(\"CREATE TABLE company(Id int, Name text, Age int, Address text, Salary real)\")"
   ]
  },
  {
   "cell_type": "code",
   "execution_count": 6,
   "metadata": {},
   "outputs": [
    {
     "data": {
      "text/plain": [
       "<sqlite3.Cursor at 0x21a82a58570>"
      ]
     },
     "execution_count": 6,
     "metadata": {},
     "output_type": "execute_result"
    }
   ],
   "source": [
    "# Execute INSERT INTO <tablename> query\n",
    "c.execute(\"INSERT INTO company VALUES(1, 'Amrit', 37, 'Panskura', 52000.00)\")\n",
    "c.execute(\"INSERT INTO company VALUES(2, 'Abheer', 35, 'Pune', 80000.50)\")\n",
    "c.execute(\"INSERT INTO company VALUES(3, 'Praneet', 39, 'Nagpur', 42000.00)\")"
   ]
  },
  {
   "cell_type": "code",
   "execution_count": 7,
   "metadata": {},
   "outputs": [
    {
     "data": {
      "text/plain": [
       "<sqlite3.Cursor at 0x21a82a58570>"
      ]
     },
     "execution_count": 7,
     "metadata": {},
     "output_type": "execute_result"
    }
   ],
   "source": [
    "# Execute SELECT query to fetch records from table\n",
    "records = c.execute(\"SELECT * FROM company\")"
   ]
  },
  {
   "cell_type": "code",
   "execution_count": 8,
   "metadata": {},
   "outputs": [
    {
     "name": "stdout",
     "output_type": "stream",
     "text": [
      "(1, 'Amrit', 37, 'Panskura', 52000.0)\n",
      "(2, 'Abheer', 35, 'Pune', 80000.5)\n",
      "(3, 'Praneet', 39, 'Nagpur', 42000.0)\n"
     ]
    }
   ],
   "source": [
    "# Dispaly record one by one (tuple format)\n",
    "for record in records:\n",
    "    print(record)"
   ]
  },
  {
   "cell_type": "code",
   "execution_count": 9,
   "metadata": {},
   "outputs": [
    {
     "name": "stdout",
     "output_type": "stream",
     "text": [
      "(1, 'Amrit', 37, 'Panskura', 52000.0)\n",
      "(3, 'Praneet', 39, 'Nagpur', 42000.0)\n"
     ]
    }
   ],
   "source": [
    "# Execute SELECT query with WHERE clause \n",
    "filtered_data = c.execute(\"SELECT * FROM company where Age > 35\")\n",
    "for record in filtered_data:\n",
    "    print(record)"
   ]
  },
  {
   "cell_type": "code",
   "execution_count": 10,
   "metadata": {},
   "outputs": [
    {
     "name": "stdout",
     "output_type": "stream",
     "text": [
      "(2, 'Abheer')\n",
      "(1, 'Amrit')\n",
      "(3, 'Praneet')\n"
     ]
    }
   ],
   "source": [
    "# Execute SELECT query with ORDER BY clause \n",
    "filtered_data = c.execute(\"SELECT Id,Name FROM company ORDER BY Age\")\n",
    "for record in filtered_data:\n",
    "    print(record)"
   ]
  },
  {
   "cell_type": "code",
   "execution_count": 12,
   "metadata": {},
   "outputs": [
    {
     "name": "stdout",
     "output_type": "stream",
     "text": [
      "(1, 'Amrit', 37, 'Panskura', 52000.0)\n",
      "(2, 'Abheer', 35, 'Pune', 80000.5)\n"
     ]
    }
   ],
   "source": [
    "# DELETE Specific set of records based on criteria\n",
    "c.execute(\"DELETE FROM company WHERE Age > 37\")\n",
    "records = c.execute(\"SELECT * FROM company\")\n",
    "for record in records:\n",
    "    print(record)"
   ]
  },
  {
   "cell_type": "code",
   "execution_count": 13,
   "metadata": {},
   "outputs": [
    {
     "ename": "OperationalError",
     "evalue": "no such table: employee",
     "output_type": "error",
     "traceback": [
      "\u001b[1;31m---------------------------------------------------------------------------\u001b[0m",
      "\u001b[1;31mOperationalError\u001b[0m                          Traceback (most recent call last)",
      "\u001b[1;32m<ipython-input-13-3571833f84a7>\u001b[0m in \u001b[0;36m<module>\u001b[1;34m\u001b[0m\n\u001b[0;32m      1\u001b[0m \u001b[1;31m# DROP entire Table\u001b[0m\u001b[1;33m\u001b[0m\u001b[1;33m\u001b[0m\u001b[1;33m\u001b[0m\u001b[0m\n\u001b[1;32m----> 2\u001b[1;33m \u001b[0mc\u001b[0m\u001b[1;33m.\u001b[0m\u001b[0mexecute\u001b[0m\u001b[1;33m(\u001b[0m\u001b[1;34m\"DROP TABLE employee\"\u001b[0m\u001b[1;33m)\u001b[0m\u001b[1;33m\u001b[0m\u001b[1;33m\u001b[0m\u001b[0m\n\u001b[0m",
      "\u001b[1;31mOperationalError\u001b[0m: no such table: employee"
     ]
    }
   ],
   "source": [
    "# DROP entire Table\n",
    "c.execute(\"DROP TABLE employee\")\n",
    "\n",
    "# Throwing an error as employee table is not present in company database"
   ]
  },
  {
   "cell_type": "code",
   "execution_count": 14,
   "metadata": {},
   "outputs": [
    {
     "data": {
      "text/plain": [
       "<sqlite3.Cursor at 0x21a82a58570>"
      ]
     },
     "execution_count": 14,
     "metadata": {},
     "output_type": "execute_result"
    }
   ],
   "source": [
    "# Drop entire Table if TABLE EXISTS\n",
    "c.execute(\"DROP TABLE IF EXISTS employee\")\n",
    "\n",
    "# In this case no error as it checks existance of table before dropping"
   ]
  },
  {
   "cell_type": "code",
   "execution_count": null,
   "metadata": {},
   "outputs": [],
   "source": []
  }
 ],
 "metadata": {
  "kernelspec": {
   "display_name": "Python 3",
   "language": "python",
   "name": "python3"
  },
  "language_info": {
   "codemirror_mode": {
    "name": "ipython",
    "version": 3
   },
   "file_extension": ".py",
   "mimetype": "text/x-python",
   "name": "python",
   "nbconvert_exporter": "python",
   "pygments_lexer": "ipython3",
   "version": "3.8.5"
  }
 },
 "nbformat": 4,
 "nbformat_minor": 4
}
